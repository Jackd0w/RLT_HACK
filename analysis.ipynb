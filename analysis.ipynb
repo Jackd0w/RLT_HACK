{
 "cells": [
  {
   "cell_type": "code",
   "execution_count": 1,
   "metadata": {},
   "outputs": [],
   "source": [
    "import pandas as pd"
   ]
  },
  {
   "cell_type": "code",
   "execution_count": 3,
   "metadata": {},
   "outputs": [
    {
     "data": {
      "text/html": [
       "<div>\n",
       "<style scoped>\n",
       "    .dataframe tbody tr th:only-of-type {\n",
       "        vertical-align: middle;\n",
       "    }\n",
       "\n",
       "    .dataframe tbody tr th {\n",
       "        vertical-align: top;\n",
       "    }\n",
       "\n",
       "    .dataframe thead th {\n",
       "        text-align: right;\n",
       "    }\n",
       "</style>\n",
       "<table border=\"1\" class=\"dataframe\">\n",
       "  <thead>\n",
       "    <tr style=\"text-align: right;\">\n",
       "      <th></th>\n",
       "      <th>ga_user_id;fullReferrer;source;medium;sessions;date</th>\n",
       "    </tr>\n",
       "  </thead>\n",
       "  <tbody>\n",
       "    <tr>\n",
       "      <th>0</th>\n",
       "      <td>ga_user_id_1;(direct);(direct);(none);1;01.01....</td>\n",
       "    </tr>\n",
       "    <tr>\n",
       "      <th>1</th>\n",
       "      <td>ga_user_id_2;(direct);(direct);(none);1;01.01....</td>\n",
       "    </tr>\n",
       "    <tr>\n",
       "      <th>2</th>\n",
       "      <td>ga_user_id_3;(direct);(direct);(none);2;01.01....</td>\n",
       "    </tr>\n",
       "    <tr>\n",
       "      <th>3</th>\n",
       "      <td>ga_user_id_4;(direct);(direct);(none);1;01.01....</td>\n",
       "    </tr>\n",
       "    <tr>\n",
       "      <th>4</th>\n",
       "      <td>ga_user_id_5;(direct);(direct);(none);1;01.01....</td>\n",
       "    </tr>\n",
       "    <tr>\n",
       "      <th>...</th>\n",
       "      <td>...</td>\n",
       "    </tr>\n",
       "    <tr>\n",
       "      <th>540775</th>\n",
       "      <td>ga_user_id_394593;yandex.ru/;yandex.ru;referra...</td>\n",
       "    </tr>\n",
       "    <tr>\n",
       "      <th>540776</th>\n",
       "      <td>ga_user_id_395505;yandex.ru/;yandex.ru;referra...</td>\n",
       "    </tr>\n",
       "    <tr>\n",
       "      <th>540777</th>\n",
       "      <td>ga_user_id_396896;yandex.ru/;yandex.ru;referra...</td>\n",
       "    </tr>\n",
       "    <tr>\n",
       "      <th>540778</th>\n",
       "      <td>ga_user_id_279095;yandex.ru/;yandex.ru;referra...</td>\n",
       "    </tr>\n",
       "    <tr>\n",
       "      <th>540779</th>\n",
       "      <td>ga_user_id_395534;yandex.ru/;yandex.ru;referra...</td>\n",
       "    </tr>\n",
       "  </tbody>\n",
       "</table>\n",
       "<p>540780 rows × 1 columns</p>\n",
       "</div>"
      ],
      "text/plain": [
       "       ga_user_id;fullReferrer;source;medium;sessions;date\n",
       "0       ga_user_id_1;(direct);(direct);(none);1;01.01.... \n",
       "1       ga_user_id_2;(direct);(direct);(none);1;01.01.... \n",
       "2       ga_user_id_3;(direct);(direct);(none);2;01.01.... \n",
       "3       ga_user_id_4;(direct);(direct);(none);1;01.01.... \n",
       "4       ga_user_id_5;(direct);(direct);(none);1;01.01.... \n",
       "...                                                   ... \n",
       "540775  ga_user_id_394593;yandex.ru/;yandex.ru;referra... \n",
       "540776  ga_user_id_395505;yandex.ru/;yandex.ru;referra... \n",
       "540777  ga_user_id_396896;yandex.ru/;yandex.ru;referra... \n",
       "540778  ga_user_id_279095;yandex.ru/;yandex.ru;referra... \n",
       "540779  ga_user_id_395534;yandex.ru/;yandex.ru;referra... \n",
       "\n",
       "[540780 rows x 1 columns]"
      ]
     },
     "execution_count": 3,
     "metadata": {},
     "output_type": "execute_result"
    }
   ],
   "source": [
    "df = pd.read_csv(\"traff_ga.csv\")\n",
    "\n",
    "df"
   ]
  },
  {
   "cell_type": "code",
   "execution_count": null,
   "metadata": {},
   "outputs": [],
   "source": []
  }
 ],
 "metadata": {
  "kernelspec": {
   "display_name": "rlt_hack",
   "language": "python",
   "name": "python3"
  },
  "language_info": {
   "codemirror_mode": {
    "name": "ipython",
    "version": 3
   },
   "file_extension": ".py",
   "mimetype": "text/x-python",
   "name": "python",
   "nbconvert_exporter": "python",
   "pygments_lexer": "ipython3",
   "version": "3.10.9"
  },
  "orig_nbformat": 4,
  "vscode": {
   "interpreter": {
    "hash": "f76bb8cf5dfae71d91dd7b7e179db36169af6883080cd9e18b2284b50db526f8"
   }
  }
 },
 "nbformat": 4,
 "nbformat_minor": 2
}
